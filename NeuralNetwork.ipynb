{
 "cells": [
  {
   "cell_type": "code",
   "execution_count": 1,
   "metadata": {},
   "outputs": [],
   "source": [
    "import pandas as pd\n",
    "import numpy as np\n",
    "import matplotlib.pyplot as plt"
   ]
  },
  {
   "cell_type": "code",
   "execution_count": 2,
   "metadata": {},
   "outputs": [
    {
     "name": "stdout",
     "output_type": "stream",
     "text": [
      "(60000, 785)\n",
      "(10000, 785)\n",
      "10\n"
     ]
    }
   ],
   "source": [
    "data_train = pd.read_csv(\"fashion-mnist_train.csv\")\n",
    "data_test = pd.read_csv(\"fashion-mnist_test.csv\")\n",
    "mean = data_train.mean()\n",
    "std = data_train.std()\n",
    "data_train_std = (data_train - mean)/std\n",
    "data_test_std = (data_test - mean)/std    \n",
    "print(data_train_std.shape)\n",
    "print(data_test_std.shape)\n",
    "print(data_train_std['label'].nunique())"
   ]
  },
  {
   "cell_type": "code",
   "execution_count": 3,
   "metadata": {},
   "outputs": [],
   "source": [
    "X_full = data_train_std.drop('label', axis=1)\n",
    "y_full = data_train_std['label']\n",
    "X_test = data_test_std.drop('label', axis=1)\n",
    "y_test = data_test_std['label']\n",
    "np.random.seed(42)\n",
    "n_samples = len(X_full)\n",
    "n_val = int(n_samples * 0.1)\n",
    "\n",
    "# Generate random indices\n",
    "indices = np.random.permutation(n_samples)\n",
    "val_indices = indices[:n_val]\n",
    "train_indices = indices[n_val:]\n",
    "\n",
    "# Split the data\n",
    "X_train = X_full.iloc[train_indices]\n",
    "X_val = X_full.iloc[val_indices]\n",
    "y_train = y_full.iloc[train_indices]\n",
    "y_val = y_full.iloc[val_indices]\n",
    "X_train = X_train.values\n",
    "X_val = X_val.values\n",
    "X_test = X_test.values\n",
    "y_train_onehot = pd.get_dummies(y_train).values\n",
    "y_val_onehot = pd.get_dummies(y_val).values\n",
    "y_test_onehot = pd.get_dummies(y_test).values"
   ]
  },
  {
   "cell_type": "code",
   "execution_count": 4,
   "metadata": {},
   "outputs": [],
   "source": [
    "class Layer:\n",
    "    def __init__(self, n_inputs, n_neurons, activation='relu', optimizer = 'gd'):\n",
    "        self.weights = np.random.normal(0, np.sqrt(2.0/n_inputs), size=(n_inputs, n_neurons)) # He Initializaion\n",
    "        self.biases = np.zeros((1, n_neurons))\n",
    "        self.activation = activation\n",
    "        self.optimizer = optimizer\n",
    "    def forward(self, inputs):\n",
    "        self.inputs = inputs\n",
    "        self.z = np.dot(inputs, self.weights) + self.biases\n",
    "        if self.activation == 'relu':\n",
    "            self.output = np.maximum(0, self.z)\n",
    "        elif self.activation == 'softmax':\n",
    "            exp_values = np.exp(self.z - np.max(self.z, axis=1, keepdims=True))\n",
    "            self.output = exp_values / (np.sum(exp_values, axis=1, keepdims=True) + 1e-15)\n",
    "        return self.output\n",
    "    def backward(self,d_output, learning_rate):\n",
    "        if self.activation == 'relu':\n",
    "            d_activation = np.where(self.z > 0, 1, 0)\n",
    "        if self.activation == 'softmax':\n",
    "            d_activation = 1\n",
    "        d_z = d_output*d_activation\n",
    "        d_weights = np.dot(self.inputs.T, d_z)\n",
    "        d_biases = np.sum(d_z, axis=0, keepdims=True)\n",
    "        d_inputs = np.dot(d_z, self.weights.T)\n",
    "        if self.optimizer == 'gd':\n",
    "            self.weights -= learning_rate * d_weights\n",
    "            self.biases -= learning_rate * d_biases\n",
    "        return d_inputs"
   ]
  },
  {
   "cell_type": "code",
   "execution_count": 5,
   "metadata": {},
   "outputs": [],
   "source": [
    "class NeuralNetwork:\n",
    "    def __init__(self):\n",
    "        self.layers = []\n",
    "        self.loss_history = []\n",
    "    def add_layer(self, n_inputs, n_neurons, activation='relu'):\n",
    "        self.layers.append(Layer(n_inputs, n_neurons, activation))\n",
    "    def forward(self, X):\n",
    "        current_output = X\n",
    "        for layer in self.layers:\n",
    "            current_output = layer.forward(current_output)\n",
    "        return current_output\n",
    "    def compute_loss(self, y_pred, y_true):\n",
    "        epsilon = 1e-15  # Small constant to prevent log(0)\n",
    "        y_pred = np.clip(y_pred, epsilon, 1 - epsilon)  # Clip predictions\n",
    "        loss = -np.mean(np.sum(y_true * np.log(y_pred), axis=1))  # Compute loss\n",
    "        return loss\n",
    "    def compute_accuracy(self, y_pred, y_true):\n",
    "        predictions = np.argmax(y_pred, axis=1)\n",
    "        truth = np.argmax(y_true, axis=1)\n",
    "        return np.mean(predictions == truth)\n",
    "    def backward(self, y_pred, y_true, learning_rate):\n",
    "        d_output = y_pred - y_true\n",
    "        for layer in reversed(self.layers):\n",
    "            d_output = layer.backward(d_output, learning_rate)\n",
    "    def train(self,X,y,epochs=30,batch_size=64,learning_rate=0.03):\n",
    "        n_samples = len(X)\n",
    "        for epoch in range(epochs):\n",
    "            for i in range(0, n_samples, batch_size):\n",
    "                X_batch = X[i:i + batch_size]\n",
    "                y_batch = y[i:i + batch_size]\n",
    "                \n",
    "                # Forward pass\n",
    "                y_pred = self.forward(X_batch)\n",
    "                \n",
    "                # Compute loss\n",
    "                loss = self.compute_loss(y_pred, y_batch)\n",
    "                self.loss_history.append(loss)\n",
    "                \n",
    "                # Backward pass\n",
    "                self.backward(y_pred, y_batch, learning_rate)\n",
    "            \n",
    "            # Print progress every 10 epochs\n",
    "            if (epoch + 1) % 10 == 0:\n",
    "                y_pred = self.forward(X)\n",
    "                accuracy = self.compute_accuracy(y_pred, y)\n",
    "                print(f'Epoch {epoch + 1}/{epochs}, Loss: {loss:.4f}, Accuracy: {accuracy:.4f}')\n",
    "        return self.loss_history"
   ]
  },
  {
   "cell_type": "code",
   "execution_count": 6,
   "metadata": {},
   "outputs": [
    {
     "name": "stdout",
     "output_type": "stream",
     "text": [
      "Epoch 10/30, Loss: 0.2365, Accuracy: 0.9178\n",
      "Epoch 20/30, Loss: 0.1052, Accuracy: 0.9317\n",
      "Epoch 30/30, Loss: 0.0772, Accuracy: 0.9413\n"
     ]
    }
   ],
   "source": [
    "n_features = X_train.shape[1]\n",
    "n_classes = y_train_onehot.shape[1]\n",
    "Neuralnetmodel = NeuralNetwork()\n",
    "Neuralnetmodel.add_layer(n_features, 64, 'relu')    # Input layer -> Hidden layer\n",
    "Neuralnetmodel.add_layer(64, 32, 'relu')            # Hidden layer -> Hidden layer\n",
    "Neuralnetmodel.add_layer(32, n_classes, 'softmax')   # Hidden layer -> Output layer\n",
    "loss_history = Neuralnetmodel.train( X_train, y_train_onehot,batch_size=32,\n",
    "        learning_rate=0.002)  "
   ]
  },
  {
   "cell_type": "code",
   "execution_count": 7,
   "metadata": {},
   "outputs": [
    {
     "name": "stdout",
     "output_type": "stream",
     "text": [
      "Validation Accuracy: 0.8717\n"
     ]
    }
   ],
   "source": [
    "val_predictions = Neuralnetmodel.forward(X_val)\n",
    "val_accuracy = Neuralnetmodel.compute_accuracy(val_predictions, y_val_onehot)\n",
    "print(f'Validation Accuracy: {val_accuracy:.4f}')"
   ]
  },
  {
   "cell_type": "code",
   "execution_count": 8,
   "metadata": {},
   "outputs": [
    {
     "name": "stdout",
     "output_type": "stream",
     "text": [
      "Test Accuracy: 0.8698\n"
     ]
    }
   ],
   "source": [
    "test_predictions = Neuralnetmodel.forward(X_test)\n",
    "test_accuracy = Neuralnetmodel.compute_accuracy(test_predictions, y_test_onehot)\n",
    "print(f'Test Accuracy: {test_accuracy:.4f}')"
   ]
  }
 ],
 "metadata": {
  "kernelspec": {
   "display_name": "Python 3",
   "language": "python",
   "name": "python3"
  },
  "language_info": {
   "codemirror_mode": {
    "name": "ipython",
    "version": 3
   },
   "file_extension": ".py",
   "mimetype": "text/x-python",
   "name": "python",
   "nbconvert_exporter": "python",
   "pygments_lexer": "ipython3",
   "version": "3.10.11"
  }
 },
 "nbformat": 4,
 "nbformat_minor": 2
}
